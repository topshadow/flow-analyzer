{
 "cells": [
  {
   "cell_type": "code",
   "execution_count": 1,
   "metadata": {},
   "outputs": [
    {
     "name": "stdout",
     "output_type": "stream",
     "text": [
      "true\n"
     ]
    }
   ],
   "source": [
    "const versionPattern = \"(\\\\d+\\\\.\\\\d+\\\\.\\\\d+)\";\n",
    "const regexPattern = `/${versionPattern}/jquery(\\\\.min)?\\\\.js`;\n",
    "const regex = new RegExp(regexPattern);\n",
    "\n",
    "// 使用示例\n",
    "const testString = \"/1.2.3/jquery.min.js\";\n",
    "console.log(regex.test(testString));  // 输出: tr"
   ]
  },
  {
   "cell_type": "code",
   "execution_count": 11,
   "metadata": {},
   "outputs": [
    {
     "data": {
      "text/plain": [
       "\u001b[32m\"jquery-(§§version§§)(\\\\.min)?\\\\.js\"\u001b[39m"
      ]
     },
     "execution_count": 11,
     "metadata": {},
     "output_type": "execute_result"
    }
   ],
   "source": [
    "// new RegExp(\"(\\\\.min)\\\\.js\").test(\"jquery-1.12.4.min.js\")\n",
    "\"jquery-(§§version§§)(\\\\.min)?\\\\.js\""
   ]
  },
  {
   "cell_type": "code",
   "execution_count": 16,
   "metadata": {},
   "outputs": [
    {
     "name": "stdout",
     "output_type": "stream",
     "text": [
      "jquery-(§§version§§)(.min)?.js\n"
     ]
    }
   ],
   "source": [
    "[ \"jquery-(§§version§§)(.min)?.js\" ].forEach(r=>console.log(String.raw`${r}`))"
   ]
  }
 ],
 "metadata": {
  "kernelspec": {
   "display_name": "Deno",
   "language": "typescript",
   "name": "deno"
  },
  "language_info": {
   "codemirror_mode": "typescript",
   "file_extension": ".ts",
   "mimetype": "text/x.typescript",
   "name": "typescript",
   "nbconvert_exporter": "script",
   "pygments_lexer": "typescript",
   "version": "5.7.3"
  }
 },
 "nbformat": 4,
 "nbformat_minor": 2
}
